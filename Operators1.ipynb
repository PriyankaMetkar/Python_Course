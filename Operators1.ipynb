{
 "cells": [
  {
   "cell_type": "code",
   "execution_count": 1,
   "id": "18345b15",
   "metadata": {},
   "outputs": [
    {
     "name": "stdout",
     "output_type": "stream",
     "text": [
      "[10, 20, 30, 40]\n",
      "[10, 20, 30, 40]\n"
     ]
    }
   ],
   "source": [
    "a = [10, 20]\n",
    "b = a\n",
    "b += [30, 40]\n",
    "print(a)\n",
    "print(b)"
   ]
  },
  {
   "cell_type": "code",
   "execution_count": 6,
   "id": "17e7d9ee",
   "metadata": {},
   "outputs": [],
   "source": [
    "x = 10\n",
    "y = 50\n",
    "if x ** 2 > 100 and y < 100:\n",
    "    print(x, y)"
   ]
  },
  {
   "cell_type": "code",
   "execution_count": 7,
   "id": "acb02fb0",
   "metadata": {},
   "outputs": [
    {
     "name": "stdout",
     "output_type": "stream",
     "text": [
      "512\n"
     ]
    }
   ],
   "source": [
    "print(2 ** 3 ** 2)    # Exponent operator ** has right-to-left associativity in Python in same operation ."
   ]
  },
  {
   "cell_type": "code",
   "execution_count": 8,
   "id": "4817a889",
   "metadata": {},
   "outputs": [
    {
     "name": "stdout",
     "output_type": "stream",
     "text": [
      "-5\n"
     ]
    }
   ],
   "source": [
    "print(-18 // 4) #in case of nagative floor division reult is rounded of to neartest big negative integer"
   ]
  },
  {
   "cell_type": "code",
   "execution_count": 11,
   "id": "9b19fdf8",
   "metadata": {},
   "outputs": [
    {
     "name": "stdout",
     "output_type": "stream",
     "text": [
      "True\n"
     ]
    }
   ],
   "source": [
    "x = 10.0\n",
    "y = (x < 100.0) and isinstance(x, float) #isinstance(varianle,type of varible) if variable is of given type this returns true \n",
    "print(y)"
   ]
  },
  {
   "cell_type": "code",
   "execution_count": null,
   "id": "e9e67bf4",
   "metadata": {},
   "outputs": [],
   "source": [
    "# Write your logic here\n",
    "#Leap Year\n",
    "def is_leap(year):\n",
    "    leap = False\n",
    "    if year % 4==0:\n",
    "        if year % 100==0:\n",
    "            if year % 400==0:\n",
    "                leap=True\n",
    "        elif year % 100 !=0 and year % 400 !=0:\n",
    "            leap=True\n",
    "            \n",
    "            \n",
    "    \n",
    "    return leap\n",
    "\n",
    "year = int(input(\"Enter the year\"))\n",
    "print(is_leap(year))\n"
   ]
  },
  {
   "cell_type": "code",
   "execution_count": null,
   "id": "22bec26e",
   "metadata": {},
   "outputs": [],
   "source": [
    " # https://www.hackerrank.com/domains/python"
   ]
  },
  {
   "cell_type": "code",
   "execution_count": null,
   "id": "6dabfb0f",
   "metadata": {},
   "outputs": [],
   "source": []
  },
  {
   "cell_type": "code",
   "execution_count": null,
   "id": "2f363649",
   "metadata": {},
   "outputs": [],
   "source": []
  },
  {
   "cell_type": "code",
   "execution_count": null,
   "id": "81475643",
   "metadata": {},
   "outputs": [],
   "source": []
  }
 ],
 "metadata": {
  "kernelspec": {
   "display_name": "Python 3 (ipykernel)",
   "language": "python",
   "name": "python3"
  },
  "language_info": {
   "codemirror_mode": {
    "name": "ipython",
    "version": 3
   },
   "file_extension": ".py",
   "mimetype": "text/x-python",
   "name": "python",
   "nbconvert_exporter": "python",
   "pygments_lexer": "ipython3",
   "version": "3.11.5"
  }
 },
 "nbformat": 4,
 "nbformat_minor": 5
}
