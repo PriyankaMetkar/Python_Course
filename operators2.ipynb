{
 "cells": [
  {
   "cell_type": "markdown",
   "id": "5e583385",
   "metadata": {},
   "source": [
    "# Assignment:Python Operators"
   ]
  },
  {
   "cell_type": "markdown",
   "id": "5e622505",
   "metadata": {},
   "source": [
    "1.Arithmetic Operators\n",
    "2.Logical Operators\n",
    "3.Comparison Operators\n",
    "4.Assignment Operators\n",
    "5.Bitwise operators\n",
    "6.Speicial Operators\n",
    "  1-Indentity Operators\n",
    "  2-Membership Operators  "
   ]
  },
  {
   "cell_type": "markdown",
   "id": "04adcdde",
   "metadata": {},
   "source": [
    "**1.Arithmetic Operators:**\n",
    "\n",
    "+ ==>Addition\n",
    "\n",
    "- ==>Subtraction\n",
    "\n",
    "* ==>Multiplication\n",
    "\n",
    "/ ==>Division operator\n",
    "\n",
    "% ===>Modulo operator\n",
    "\n",
    "// ==>Floor Division operator\n",
    "\n",
    "** ==>Exponent operator or power operator"
   ]
  },
  {
   "cell_type": "code",
   "execution_count": 1,
   "id": "8fe5b0c4",
   "metadata": {},
   "outputs": [],
   "source": [
    "a=10\n",
    "b=20"
   ]
  },
  {
   "cell_type": "code",
   "execution_count": 2,
   "id": "2fe394de",
   "metadata": {},
   "outputs": [
    {
     "name": "stdout",
     "output_type": "stream",
     "text": [
      "30\n"
     ]
    }
   ],
   "source": [
    "#+ ==>Addition\n",
    "print(a+b)"
   ]
  },
  {
   "cell_type": "code",
   "execution_count": 3,
   "id": "a5278782",
   "metadata": {},
   "outputs": [
    {
     "name": "stdout",
     "output_type": "stream",
     "text": [
      "-10\n"
     ]
    }
   ],
   "source": [
    "#- ==>Subtraction\n",
    "print(a-b)"
   ]
  },
  {
   "cell_type": "code",
   "execution_count": 4,
   "id": "9bf9f6a1",
   "metadata": {},
   "outputs": [
    {
     "name": "stdout",
     "output_type": "stream",
     "text": [
      "200\n"
     ]
    }
   ],
   "source": [
    "#* ==>Multiplication\n",
    "print(a*b)"
   ]
  },
  {
   "cell_type": "code",
   "execution_count": 5,
   "id": "128029f9",
   "metadata": {},
   "outputs": [
    {
     "name": "stdout",
     "output_type": "stream",
     "text": [
      "0.5\n"
     ]
    }
   ],
   "source": [
    "#/ ==>Division operator\n",
    "print(a/b)"
   ]
  },
  {
   "cell_type": "code",
   "execution_count": 6,
   "id": "2cc6574b",
   "metadata": {},
   "outputs": [
    {
     "name": "stdout",
     "output_type": "stream",
     "text": [
      "10\n"
     ]
    }
   ],
   "source": [
    "#% ===>Modulo operator\n",
    "print(a%b)"
   ]
  },
  {
   "cell_type": "code",
   "execution_count": 7,
   "id": "b32b0b11",
   "metadata": {},
   "outputs": [
    {
     "name": "stdout",
     "output_type": "stream",
     "text": [
      "0\n"
     ]
    }
   ],
   "source": [
    "#// ==>Floor Division operator\n",
    "print(a//b)"
   ]
  },
  {
   "cell_type": "code",
   "execution_count": 8,
   "id": "6d376801",
   "metadata": {},
   "outputs": [
    {
     "name": "stdout",
     "output_type": "stream",
     "text": [
      "100000000000000000000\n"
     ]
    }
   ],
   "source": [
    "#** ==>Exponent operator or power operator\n",
    "print(a**b)"
   ]
  },
  {
   "cell_type": "code",
   "execution_count": null,
   "id": "5b01ff5f",
   "metadata": {},
   "outputs": [],
   "source": []
  }
 ],
 "metadata": {
  "kernelspec": {
   "display_name": "Python 3 (ipykernel)",
   "language": "python",
   "name": "python3"
  },
  "language_info": {
   "codemirror_mode": {
    "name": "ipython",
    "version": 3
   },
   "file_extension": ".py",
   "mimetype": "text/x-python",
   "name": "python",
   "nbconvert_exporter": "python",
   "pygments_lexer": "ipython3",
   "version": "3.11.5"
  }
 },
 "nbformat": 4,
 "nbformat_minor": 5
}
