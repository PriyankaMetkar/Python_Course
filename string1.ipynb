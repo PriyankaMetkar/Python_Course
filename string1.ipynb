{
 "cells": [
  {
   "cell_type": "code",
   "execution_count": 1,
   "id": "e21d7754",
   "metadata": {},
   "outputs": [
    {
     "data": {
      "text/plain": [
       "'PRIYANKA'"
      ]
     },
     "execution_count": 1,
     "metadata": {},
     "output_type": "execute_result"
    }
   ],
   "source": [
    "x =\"Priyanka\"\n",
    "x.upper()"
   ]
  },
  {
   "cell_type": "code",
   "execution_count": 2,
   "id": "f24bc8b5",
   "metadata": {},
   "outputs": [
    {
     "data": {
      "text/plain": [
       "'priyanka'"
      ]
     },
     "execution_count": 2,
     "metadata": {},
     "output_type": "execute_result"
    }
   ],
   "source": [
    "x.lower()"
   ]
  },
  {
   "cell_type": "code",
   "execution_count": 3,
   "id": "0453846a",
   "metadata": {},
   "outputs": [
    {
     "data": {
      "text/plain": [
       "'Virat Is A Worldclass Batsman'"
      ]
     },
     "execution_count": 3,
     "metadata": {},
     "output_type": "execute_result"
    }
   ],
   "source": [
    "x =\"virat is a WORLDclass batsman\"\n",
    "x.title()"
   ]
  },
  {
   "cell_type": "code",
   "execution_count": 4,
   "id": "d3a64dcf",
   "metadata": {},
   "outputs": [
    {
     "data": {
      "text/plain": [
       "'Virat is a worldclass batsman'"
      ]
     },
     "execution_count": 4,
     "metadata": {},
     "output_type": "execute_result"
    }
   ],
   "source": [
    "x =\"virat is a WORLDclass batsman\"\n",
    "x.capitalize()"
   ]
  },
  {
   "cell_type": "code",
   "execution_count": 8,
   "id": "c43b283b",
   "metadata": {},
   "outputs": [
    {
     "data": {
      "text/plain": [
       "2"
      ]
     },
     "execution_count": 8,
     "metadata": {},
     "output_type": "execute_result"
    }
   ],
   "source": [
    "x =\"virat is a WORLDclass batsman\"\n",
    "x.count(\"i\")"
   ]
  },
  {
   "cell_type": "code",
   "execution_count": 10,
   "id": "d739cc3c",
   "metadata": {},
   "outputs": [
    {
     "data": {
      "text/plain": [
       "True"
      ]
     },
     "execution_count": 10,
     "metadata": {},
     "output_type": "execute_result"
    }
   ],
   "source": [
    "x =\"virat is a WORLDclass batsman\"\n",
    "x.endswith(\"batsman\")"
   ]
  },
  {
   "cell_type": "code",
   "execution_count": 11,
   "id": "c9e08bc1",
   "metadata": {},
   "outputs": [
    {
     "data": {
      "text/plain": [
       "True"
      ]
     },
     "execution_count": 11,
     "metadata": {},
     "output_type": "execute_result"
    }
   ],
   "source": [
    "x =\"virat is a WORLDclass batsman\"\n",
    "x.startswith(\"virat\")"
   ]
  },
  {
   "cell_type": "code",
   "execution_count": 12,
   "id": "90f1023c",
   "metadata": {},
   "outputs": [
    {
     "data": {
      "text/plain": [
       "0"
      ]
     },
     "execution_count": 12,
     "metadata": {},
     "output_type": "execute_result"
    }
   ],
   "source": [
    "x =\"virat is a WORLDclass batsman\"\n",
    "x.find(\"virat\")"
   ]
  },
  {
   "cell_type": "code",
   "execution_count": 13,
   "id": "f760ff80",
   "metadata": {},
   "outputs": [
    {
     "data": {
      "text/plain": [
       "-1"
      ]
     },
     "execution_count": 13,
     "metadata": {},
     "output_type": "execute_result"
    }
   ],
   "source": [
    "x =\"virat is a WORLDclass batsman\"\n",
    "x.rfind(\"WORDclass\")"
   ]
  },
  {
   "cell_type": "code",
   "execution_count": 14,
   "id": "f9f246dd",
   "metadata": {},
   "outputs": [
    {
     "data": {
      "text/plain": [
       "0"
      ]
     },
     "execution_count": 14,
     "metadata": {},
     "output_type": "execute_result"
    }
   ],
   "source": [
    "x =\"virat is a WORLDclass batsman\"\n",
    "x.index(\"virat\")"
   ]
  },
  {
   "cell_type": "code",
   "execution_count": 15,
   "id": "77d79967",
   "metadata": {},
   "outputs": [
    {
     "data": {
      "text/plain": [
       "True"
      ]
     },
     "execution_count": 15,
     "metadata": {},
     "output_type": "execute_result"
    }
   ],
   "source": [
    "x=\"Priyanka\"\n",
    "x.isalpha()"
   ]
  },
  {
   "cell_type": "code",
   "execution_count": 16,
   "id": "b6972a5a",
   "metadata": {},
   "outputs": [
    {
     "data": {
      "text/plain": [
       "True"
      ]
     },
     "execution_count": 16,
     "metadata": {},
     "output_type": "execute_result"
    }
   ],
   "source": [
    "x=\"Priyanka123\"\n",
    "x.isalnum()"
   ]
  },
  {
   "cell_type": "code",
   "execution_count": 17,
   "id": "58471159",
   "metadata": {},
   "outputs": [
    {
     "data": {
      "text/plain": [
       "True"
      ]
     },
     "execution_count": 17,
     "metadata": {},
     "output_type": "execute_result"
    }
   ],
   "source": [
    "x=\"1996\"\n",
    "x.isdigit()"
   ]
  },
  {
   "cell_type": "code",
   "execution_count": 18,
   "id": "794c5622",
   "metadata": {},
   "outputs": [
    {
     "data": {
      "text/plain": [
       "True"
      ]
     },
     "execution_count": 18,
     "metadata": {},
     "output_type": "execute_result"
    }
   ],
   "source": [
    "x=\"PRIYANKA\"\n",
    "x.isupper()"
   ]
  },
  {
   "cell_type": "code",
   "execution_count": 19,
   "id": "3307ca05",
   "metadata": {},
   "outputs": [
    {
     "data": {
      "text/plain": [
       "True"
      ]
     },
     "execution_count": 19,
     "metadata": {},
     "output_type": "execute_result"
    }
   ],
   "source": [
    "x=\"priyanka\"\n",
    "x.islower()"
   ]
  },
  {
   "cell_type": "code",
   "execution_count": 20,
   "id": "224cea07",
   "metadata": {},
   "outputs": [
    {
     "data": {
      "text/plain": [
       "'Priyanka'"
      ]
     },
     "execution_count": 20,
     "metadata": {},
     "output_type": "execute_result"
    }
   ],
   "source": [
    "x = \"***Priyanka***\"\n",
    "x.strip('*')"
   ]
  },
  {
   "cell_type": "code",
   "execution_count": 22,
   "id": "5720f165",
   "metadata": {},
   "outputs": [
    {
     "data": {
      "text/plain": [
       "'Priyanka'"
      ]
     },
     "execution_count": 22,
     "metadata": {},
     "output_type": "execute_result"
    }
   ],
   "source": [
    "x = \"***Priyanka\"\n",
    "x.lstrip(\"*\")"
   ]
  },
  {
   "cell_type": "code",
   "execution_count": 24,
   "id": "c6ac9e10",
   "metadata": {},
   "outputs": [
    {
     "data": {
      "text/plain": [
       "'Priyanka'"
      ]
     },
     "execution_count": 24,
     "metadata": {},
     "output_type": "execute_result"
    }
   ],
   "source": [
    "x = \"Priyanka***\"\n",
    "x.rstrip(\"*\")"
   ]
  },
  {
   "cell_type": "code",
   "execution_count": 26,
   "id": "60990842",
   "metadata": {},
   "outputs": [
    {
     "data": {
      "text/plain": [
       "'priyanka ****'"
      ]
     },
     "execution_count": 26,
     "metadata": {},
     "output_type": "execute_result"
    }
   ],
   "source": [
    "x = \"priyanka metkar\"\n",
    "x.replace(\"metkar\",\"****\")"
   ]
  },
  {
   "cell_type": "code",
   "execution_count": 27,
   "id": "38f30bad",
   "metadata": {},
   "outputs": [
    {
     "data": {
      "text/plain": [
       "['priyanka', 'metkar']"
      ]
     },
     "execution_count": 27,
     "metadata": {},
     "output_type": "execute_result"
    }
   ],
   "source": [
    "x = \"priyanka metkar\"\n",
    "x.split()"
   ]
  },
  {
   "cell_type": "code",
   "execution_count": 29,
   "id": "de15323e",
   "metadata": {},
   "outputs": [
    {
     "data": {
      "text/plain": [
       "['priyanka ', '']"
      ]
     },
     "execution_count": 29,
     "metadata": {},
     "output_type": "execute_result"
    }
   ],
   "source": [
    "x = \"priyanka metkar\"\n",
    "x.rsplit(\"metkar\")"
   ]
  },
  {
   "cell_type": "code",
   "execution_count": 32,
   "id": "6f199b3f",
   "metadata": {},
   "outputs": [
    {
     "data": {
      "text/plain": [
       "['priyanka', ' metkar']"
      ]
     },
     "execution_count": 32,
     "metadata": {},
     "output_type": "execute_result"
    }
   ],
   "source": [
    "x = \"priyanka\\n metkar\"\n",
    "x.splitlines()"
   ]
  },
  {
   "cell_type": "code",
   "execution_count": 33,
   "id": "e7547bce",
   "metadata": {},
   "outputs": [
    {
     "data": {
      "text/plain": [
       "['priyanka\\n', ' metkar']"
      ]
     },
     "execution_count": 33,
     "metadata": {},
     "output_type": "execute_result"
    }
   ],
   "source": [
    "x = \"priyanka\\n metkar\"\n",
    "x.splitlines(True)"
   ]
  },
  {
   "cell_type": "code",
   "execution_count": 34,
   "id": "8ac4dfb9",
   "metadata": {},
   "outputs": [
    {
     "data": {
      "text/plain": [
       "'priyanka'"
      ]
     },
     "execution_count": 34,
     "metadata": {},
     "output_type": "execute_result"
    }
   ],
   "source": [
    "x = \"PRIYANKA\"\n",
    "x.casefold() # lower case"
   ]
  },
  {
   "cell_type": "code",
   "execution_count": 35,
   "id": "31305778",
   "metadata": {},
   "outputs": [
    {
     "data": {
      "text/plain": [
       "'pRIYANKA'"
      ]
     },
     "execution_count": 35,
     "metadata": {},
     "output_type": "execute_result"
    }
   ],
   "source": [
    "x = \"Priyanka\"\n",
    "x.swapcase() #upper to lower case and lower to upper case"
   ]
  },
  {
   "cell_type": "code",
   "execution_count": 36,
   "id": "95c68824",
   "metadata": {},
   "outputs": [
    {
     "data": {
      "text/plain": [
       "' priyanka '"
      ]
     },
     "execution_count": 36,
     "metadata": {},
     "output_type": "execute_result"
    }
   ],
   "source": [
    "x =\"priyanka\"   #length of string is greater than given argument then give same string\n",
    "x.center(10)"
   ]
  },
  {
   "cell_type": "code",
   "execution_count": null,
   "id": "5a5aa21b",
   "metadata": {},
   "outputs": [],
   "source": []
  },
  {
   "cell_type": "code",
   "execution_count": null,
   "id": "0e001403",
   "metadata": {},
   "outputs": [],
   "source": []
  }
 ],
 "metadata": {
  "kernelspec": {
   "display_name": "Python 3 (ipykernel)",
   "language": "python",
   "name": "python3"
  },
  "language_info": {
   "codemirror_mode": {
    "name": "ipython",
    "version": 3
   },
   "file_extension": ".py",
   "mimetype": "text/x-python",
   "name": "python",
   "nbconvert_exporter": "python",
   "pygments_lexer": "ipython3",
   "version": "3.11.5"
  }
 },
 "nbformat": 4,
 "nbformat_minor": 5
}
